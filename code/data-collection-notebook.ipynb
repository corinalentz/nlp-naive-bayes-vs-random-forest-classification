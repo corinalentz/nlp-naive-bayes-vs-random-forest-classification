{
 "cells": [
  {
   "cell_type": "markdown",
   "id": "92c894b9-0ec8-4e52-95da-88ae3d445cd4",
   "metadata": {},
   "source": [
    "# Web Scraping "
   ]
  },
  {
   "cell_type": "markdown",
   "id": "dcbe30c0-861b-4ae6-bc31-d63007ea8143",
   "metadata": {},
   "source": [
    "For this project I am scraping data from the subreddits [*r/Horror*]('https://www.reddit.com/r/horror/') and [*r/Fantasy*]('https://www.reddit.com/r/Fantasy/'). Please refer to the Jupyter Lab notebook  'primary-notebook.ipynb' for more information on the data. I'm using the Pushshift API to complete my web scraping and referencing code found here: https://www.youtube.com/watch?v=AcrjEWsMi_E ."
   ]
  },
  {
   "cell_type": "code",
   "execution_count": 1,
   "id": "90c8d002-5e82-4da7-b1e0-2b3ebab0c5d0",
   "metadata": {},
   "outputs": [],
   "source": [
    "#Importing libraries\n",
    "import pandas as pd\n",
    "\n",
    "import requests\n",
    "from bs4 import BeautifulSoup"
   ]
  },
  {
   "cell_type": "code",
   "execution_count": 2,
   "id": "c54f9138-79d6-482a-a50c-2d70457573e8",
   "metadata": {},
   "outputs": [],
   "source": [
    "#Setting our base URL.\n",
    "url = \"https://api.pushshift.io/reddit/search/submission\""
   ]
  },
  {
   "cell_type": "markdown",
   "id": "a3047235-7c7c-49b9-bb1b-e419c9a32c57",
   "metadata": {},
   "source": [
    "---"
   ]
  },
  {
   "cell_type": "code",
   "execution_count": 3,
   "id": "a115a0a2-6827-4db8-9c1a-66a6fd4c64f5",
   "metadata": {},
   "outputs": [],
   "source": [
    "#Setting our parameters. Starting with the r/horror subreddit.\n",
    "params={\n",
    "    'subreddit': 'horror',\n",
    "    'size' : 100\n",
    "}"
   ]
  },
  {
   "cell_type": "code",
   "execution_count": 4,
   "id": "e2a5dcc1-60b0-4791-a923-c897f8f6b3b6",
   "metadata": {},
   "outputs": [],
   "source": [
    "#Saving my response as res.\n",
    "res = requests.get(url, params)"
   ]
  },
  {
   "cell_type": "code",
   "execution_count": 5,
   "id": "261a48e8-ea09-49f6-ab66-9d9fd7290b21",
   "metadata": {},
   "outputs": [
    {
     "data": {
      "text/plain": [
       "200"
      ]
     },
     "execution_count": 5,
     "metadata": {},
     "output_type": "execute_result"
    }
   ],
   "source": [
    "#Checking status code\n",
    "res.status_code"
   ]
  },
  {
   "cell_type": "code",
   "execution_count": 6,
   "id": "790c3156-1fea-41a8-a4e2-6e36bcb0f9a3",
   "metadata": {},
   "outputs": [],
   "source": [
    "#Using .json() to make our html code more readable.\n",
    "data=res.json()"
   ]
  },
  {
   "cell_type": "code",
   "execution_count": 7,
   "id": "f8eb03f7-f408-4066-a8e8-557f15819722",
   "metadata": {},
   "outputs": [],
   "source": [
    "#Saving the section of the code we're interested in to a variable 'posts'. \n",
    "posts=data['data']"
   ]
  },
  {
   "cell_type": "code",
   "execution_count": 687,
   "id": "cdcfc381-7453-4547-9f47-70843d157a94",
   "metadata": {
    "tags": []
   },
   "outputs": [],
   "source": [
    "##Commenting-out this cell to prevent the dataset from being written over.\n",
    "#Using 'posts' to create a dataframe.\n",
    "#df=pd.DataFrame(posts)"
   ]
  },
  {
   "cell_type": "markdown",
   "id": "bd213ad4-d05f-4863-a7b1-d4688702a523",
   "metadata": {},
   "source": [
    "---"
   ]
  },
  {
   "cell_type": "code",
   "execution_count": 10,
   "id": "27ce8497-91ba-4e34-8046-afaaf5f5bb4b",
   "metadata": {
    "collapsed": true,
    "jupyter": {
     "outputs_hidden": true
    },
    "tags": []
   },
   "outputs": [
    {
     "data": {
      "text/plain": [
       "{'all_awardings': [],\n",
       " 'allow_live_comments': False,\n",
       " 'author': 'throwawayanonwhatevr',\n",
       " 'author_flair_css_class': None,\n",
       " 'author_flair_richtext': [],\n",
       " 'author_flair_text': None,\n",
       " 'author_flair_type': 'text',\n",
       " 'author_fullname': 't2_6gkjq9e1',\n",
       " 'author_patreon_flair': False,\n",
       " 'author_premium': True,\n",
       " 'awarders': [],\n",
       " 'can_mod_post': False,\n",
       " 'contest_mode': False,\n",
       " 'created_utc': 1624847322,\n",
       " 'domain': 'self.horror',\n",
       " 'full_link': 'https://www.reddit.com/r/horror/comments/o9b2m4/tw_horror_movies_where_side_is_relevant/',\n",
       " 'gildings': {},\n",
       " 'id': 'o9b2m4',\n",
       " 'is_created_from_ads_ui': False,\n",
       " 'is_crosspostable': True,\n",
       " 'is_meta': False,\n",
       " 'is_original_content': False,\n",
       " 'is_reddit_media_domain': False,\n",
       " 'is_robot_indexable': True,\n",
       " 'is_self': True,\n",
       " 'is_video': False,\n",
       " 'link_flair_background_color': '',\n",
       " 'link_flair_css_class': 'discussion',\n",
       " 'link_flair_richtext': [{'e': 'text', 't': 'Discussion'}],\n",
       " 'link_flair_template_id': '3a1cd228-8f0a-11e1-988a-12313d051e91',\n",
       " 'link_flair_text': 'Discussion',\n",
       " 'link_flair_text_color': 'dark',\n",
       " 'link_flair_type': 'richtext',\n",
       " 'locked': False,\n",
       " 'media_only': False,\n",
       " 'no_follow': True,\n",
       " 'num_comments': 0,\n",
       " 'num_crossposts': 0,\n",
       " 'over_18': False,\n",
       " 'parent_whitelist_status': 'all_ads',\n",
       " 'permalink': '/r/horror/comments/o9b2m4/tw_horror_movies_where_side_is_relevant/',\n",
       " 'pinned': False,\n",
       " 'pwls': 6,\n",
       " 'retrieved_on': 1624847333,\n",
       " 'score': 1,\n",
       " 'selftext': \"TRIGGER WARNINGS\\n\\n(Please try not to spoil any that you can come up with btw)\\n\\n\\nI mean as in where suicide plays a significant part in the film's story.\\n\\nGive me any you can list and please tell me, which do you find to be of the most quality?\",\n",
       " 'send_replies': True,\n",
       " 'spoiler': False,\n",
       " 'stickied': False,\n",
       " 'subreddit': 'horror',\n",
       " 'subreddit_id': 't5_2qh9x',\n",
       " 'subreddit_subscribers': 2400533,\n",
       " 'subreddit_type': 'public',\n",
       " 'thumbnail': 'self',\n",
       " 'title': '*TW* Horror movies where s*i*d*e is relevant',\n",
       " 'total_awards_received': 0,\n",
       " 'treatment_tags': [],\n",
       " 'upvote_ratio': 1.0,\n",
       " 'url': 'https://www.reddit.com/r/horror/comments/o9b2m4/tw_horror_movies_where_side_is_relevant/',\n",
       " 'whitelist_status': 'all_ads',\n",
       " 'wls': 6}"
      ]
     },
     "execution_count": 10,
     "metadata": {},
     "output_type": "execute_result"
    }
   ],
   "source": [
    "#Getting the oldest submission to get the created_utc for the next part.\n",
    "posts[-1]"
   ]
  },
  {
   "cell_type": "code",
   "execution_count": 11,
   "id": "011ea6f8-d658-4cfb-a1c4-6800e6eae5cb",
   "metadata": {},
   "outputs": [],
   "source": [
    "#Including a 'before' parameter and giving it the epoch time from the 'created_utc' section of the oldest submission in our data.\n",
    "#After that I will re-run everything, then append it into the dataframe we just created.\n",
    "params={\n",
    "    'subreddit': 'horror',\n",
    "    'size' : 100,\n",
    "    'before' : 1624847322\n",
    "}"
   ]
  },
  {
   "cell_type": "code",
   "execution_count": 12,
   "id": "b06fade4-7086-41bb-a25f-602553687b7b",
   "metadata": {},
   "outputs": [
    {
     "data": {
      "text/plain": [
       "200"
      ]
     },
     "execution_count": 12,
     "metadata": {},
     "output_type": "execute_result"
    }
   ],
   "source": [
    "res = requests.get(url, params)\n",
    "res.status_code"
   ]
  },
  {
   "cell_type": "code",
   "execution_count": 13,
   "id": "dd6810a3-155d-4f32-8873-6134343f4102",
   "metadata": {},
   "outputs": [],
   "source": [
    "data=res.json()"
   ]
  },
  {
   "cell_type": "code",
   "execution_count": 14,
   "id": "997c0ed5-033b-4a6e-9104-6f64afc4eeaa",
   "metadata": {
    "tags": []
   },
   "outputs": [],
   "source": [
    "posts=data['data']"
   ]
  },
  {
   "cell_type": "code",
   "execution_count": 693,
   "id": "964d0464-fe2b-4bab-afcc-12b4536d5689",
   "metadata": {},
   "outputs": [],
   "source": [
    "##Commenting-out this cell to prevent the dataframe from being written over.\n",
    "#Adding this new data to our existing dataframe using .append() and setting ignore_index=True .\n",
    "#df=df.append(posts, ignore_index=True)"
   ]
  },
  {
   "cell_type": "markdown",
   "id": "64e0b72a-4f9f-408c-859b-763b144c0829",
   "metadata": {},
   "source": [
    "---"
   ]
  },
  {
   "cell_type": "code",
   "execution_count": 17,
   "id": "2751c090-a26e-4f5f-acf8-a5d33935acec",
   "metadata": {
    "collapsed": true,
    "jupyter": {
     "outputs_hidden": true
    },
    "tags": []
   },
   "outputs": [
    {
     "data": {
      "text/plain": [
       "{'all_awardings': [],\n",
       " 'allow_live_comments': False,\n",
       " 'author': 'That_creepy_bitch',\n",
       " 'author_flair_css_class': None,\n",
       " 'author_flair_richtext': [],\n",
       " 'author_flair_text': None,\n",
       " 'author_flair_type': 'text',\n",
       " 'author_fullname': 't2_cymqn5o1',\n",
       " 'author_patreon_flair': False,\n",
       " 'author_premium': False,\n",
       " 'awarders': [],\n",
       " 'can_mod_post': False,\n",
       " 'contest_mode': False,\n",
       " 'created_utc': 1624768846,\n",
       " 'domain': 'self.horror',\n",
       " 'full_link': 'https://www.reddit.com/r/horror/comments/o8q7um/hey_im_new/',\n",
       " 'gildings': {},\n",
       " 'id': 'o8q7um',\n",
       " 'is_created_from_ads_ui': False,\n",
       " 'is_crosspostable': False,\n",
       " 'is_meta': False,\n",
       " 'is_original_content': False,\n",
       " 'is_reddit_media_domain': False,\n",
       " 'is_robot_indexable': False,\n",
       " 'is_self': True,\n",
       " 'is_video': False,\n",
       " 'link_flair_background_color': '',\n",
       " 'link_flair_richtext': [],\n",
       " 'link_flair_text_color': 'dark',\n",
       " 'link_flair_type': 'text',\n",
       " 'locked': False,\n",
       " 'media_only': False,\n",
       " 'no_follow': True,\n",
       " 'num_comments': 1,\n",
       " 'num_crossposts': 0,\n",
       " 'over_18': False,\n",
       " 'parent_whitelist_status': 'all_ads',\n",
       " 'permalink': '/r/horror/comments/o8q7um/hey_im_new/',\n",
       " 'pinned': False,\n",
       " 'pwls': 6,\n",
       " 'removed_by_category': 'moderator',\n",
       " 'retrieved_on': 1624768857,\n",
       " 'score': 1,\n",
       " 'selftext': '[removed]',\n",
       " 'send_replies': True,\n",
       " 'spoiler': False,\n",
       " 'stickied': False,\n",
       " 'subreddit': 'horror',\n",
       " 'subreddit_id': 't5_2qh9x',\n",
       " 'subreddit_subscribers': 2399749,\n",
       " 'subreddit_type': 'public',\n",
       " 'thumbnail': 'self',\n",
       " 'title': 'Hey I’m new',\n",
       " 'total_awards_received': 0,\n",
       " 'treatment_tags': [],\n",
       " 'upvote_ratio': 1.0,\n",
       " 'url': 'https://www.reddit.com/r/horror/comments/o8q7um/hey_im_new/',\n",
       " 'whitelist_status': 'all_ads',\n",
       " 'wls': 6}"
      ]
     },
     "execution_count": 17,
     "metadata": {},
     "output_type": "execute_result"
    }
   ],
   "source": [
    "#Pulling the oldest submission from this new batch of data to get the new created_utc.\n",
    "posts[-1]"
   ]
  },
  {
   "cell_type": "code",
   "execution_count": 18,
   "id": "4b53d15b-8e27-4325-808e-90d153bedced",
   "metadata": {},
   "outputs": [],
   "source": [
    "#Updating the 'before' param with the new epoch time to get a new batch of submissions.\n",
    "params={\n",
    "    'subreddit': 'horror',\n",
    "    'size' : 100,\n",
    "    'before' : 1624768846\n",
    "}"
   ]
  },
  {
   "cell_type": "code",
   "execution_count": 19,
   "id": "4dd9fadc-04f0-4010-90c2-caea3ebada74",
   "metadata": {},
   "outputs": [
    {
     "data": {
      "text/plain": [
       "200"
      ]
     },
     "execution_count": 19,
     "metadata": {},
     "output_type": "execute_result"
    }
   ],
   "source": [
    "#Creating a new requests.get() with the updated params and checking the status_code\n",
    "res = requests.get(url, params)\n",
    "res.status_code"
   ]
  },
  {
   "cell_type": "code",
   "execution_count": 20,
   "id": "1b69c933-12ac-4856-aa4f-2d1ba14583da",
   "metadata": {},
   "outputs": [],
   "source": [
    "#Converting it to .json for easier reading and saving the desired section of data to a variable.\n",
    "data=res.json()\n",
    "posts=data['data']"
   ]
  },
  {
   "cell_type": "code",
   "execution_count": 688,
   "id": "b76e2571-77c4-4463-8692-c723968e2726",
   "metadata": {
    "tags": []
   },
   "outputs": [],
   "source": [
    "##Commenting-out this cell to prevent the dataframe from being written over.\n",
    "#Appending our dataframe with the new batch of submissions.\n",
    "#df=df.append(posts, ignore_index=True)"
   ]
  },
  {
   "cell_type": "markdown",
   "id": "e7591bc4-4e48-40de-9ad1-3e7a886eda46",
   "metadata": {},
   "source": [
    "---"
   ]
  },
  {
   "cell_type": "code",
   "execution_count": 22,
   "id": "ddaa2c6e-5f23-4a3c-aea9-68a1e854f2c4",
   "metadata": {
    "collapsed": true,
    "jupyter": {
     "outputs_hidden": true
    },
    "tags": []
   },
   "outputs": [
    {
     "data": {
      "text/plain": [
       "{'all_awardings': [],\n",
       " 'allow_live_comments': False,\n",
       " 'author': 'gucci_jawline',\n",
       " 'author_flair_css_class': None,\n",
       " 'author_flair_richtext': [],\n",
       " 'author_flair_text': None,\n",
       " 'author_flair_type': 'text',\n",
       " 'author_fullname': 't2_3rggjjab',\n",
       " 'author_patreon_flair': False,\n",
       " 'author_premium': False,\n",
       " 'awarders': [],\n",
       " 'can_mod_post': False,\n",
       " 'contest_mode': False,\n",
       " 'created_utc': 1624697326,\n",
       " 'domain': 'self.horror',\n",
       " 'full_link': 'https://www.reddit.com/r/horror/comments/o872it/found_a_cool_little_short_horror_film_one_day/',\n",
       " 'gildings': {},\n",
       " 'id': 'o872it',\n",
       " 'is_created_from_ads_ui': False,\n",
       " 'is_crosspostable': False,\n",
       " 'is_meta': False,\n",
       " 'is_original_content': False,\n",
       " 'is_reddit_media_domain': False,\n",
       " 'is_robot_indexable': False,\n",
       " 'is_self': True,\n",
       " 'is_video': False,\n",
       " 'link_flair_background_color': '',\n",
       " 'link_flair_richtext': [],\n",
       " 'link_flair_text_color': 'dark',\n",
       " 'link_flair_type': 'text',\n",
       " 'locked': False,\n",
       " 'media_only': False,\n",
       " 'no_follow': True,\n",
       " 'num_comments': 1,\n",
       " 'num_crossposts': 0,\n",
       " 'over_18': False,\n",
       " 'parent_whitelist_status': 'all_ads',\n",
       " 'permalink': '/r/horror/comments/o872it/found_a_cool_little_short_horror_film_one_day/',\n",
       " 'pinned': False,\n",
       " 'pwls': 6,\n",
       " 'removed_by_category': 'moderator',\n",
       " 'retrieved_on': 1624697337,\n",
       " 'score': 1,\n",
       " 'selftext': '[removed]',\n",
       " 'send_replies': True,\n",
       " 'spoiler': False,\n",
       " 'stickied': False,\n",
       " 'subreddit': 'horror',\n",
       " 'subreddit_id': 't5_2qh9x',\n",
       " 'subreddit_subscribers': 2399160,\n",
       " 'subreddit_type': 'public',\n",
       " 'thumbnail': 'self',\n",
       " 'title': \"Found a cool little short horror film 'One day'. Reminded me of Japanese Horror. Not bad stuff for a short\",\n",
       " 'total_awards_received': 0,\n",
       " 'treatment_tags': [],\n",
       " 'upvote_ratio': 1.0,\n",
       " 'url': 'https://www.reddit.com/r/horror/comments/o872it/found_a_cool_little_short_horror_film_one_day/',\n",
       " 'whitelist_status': 'all_ads',\n",
       " 'wls': 6}"
      ]
     },
     "execution_count": 22,
     "metadata": {},
     "output_type": "execute_result"
    }
   ],
   "source": [
    "#Getting created_utc from oldest submission in this batch.\n",
    "posts[-1]"
   ]
  },
  {
   "cell_type": "code",
   "execution_count": 23,
   "id": "9a491cae-44ba-4b01-9f98-a21cb565cf81",
   "metadata": {},
   "outputs": [],
   "source": [
    "#Updating the 'before' param with the new epoch time.\n",
    "params={\n",
    "    'subreddit': 'horror',\n",
    "    'size' : 100,\n",
    "    'before' : 1624697326\n",
    "}"
   ]
  },
  {
   "cell_type": "code",
   "execution_count": 24,
   "id": "774d7468-a440-4403-8d89-720b2d1a80f4",
   "metadata": {},
   "outputs": [
    {
     "data": {
      "text/plain": [
       "200"
      ]
     },
     "execution_count": 24,
     "metadata": {},
     "output_type": "execute_result"
    }
   ],
   "source": [
    "#Creating a new requests.get() and checking the status_code\n",
    "res = requests.get(url, params)\n",
    "res.status_code"
   ]
  },
  {
   "cell_type": "code",
   "execution_count": 25,
   "id": "a1aa8fc6-3c19-440c-b532-9bd7be38be61",
   "metadata": {},
   "outputs": [],
   "source": [
    "#Converting it to .json and saving the desired data.\n",
    "data=res.json()\n",
    "posts=data['data']"
   ]
  },
  {
   "cell_type": "code",
   "execution_count": 689,
   "id": "46722861-b56c-4517-8292-537798ab5f9a",
   "metadata": {},
   "outputs": [],
   "source": [
    "##Commenting-out this cell to prevent the dataframe from being written over.\n",
    "#Appending our dataframe.\n",
    "#df=df.append(posts, ignore_index=True)"
   ]
  },
  {
   "cell_type": "code",
   "execution_count": 27,
   "id": "7b21d576-b293-44d6-ae0f-d36713288e00",
   "metadata": {},
   "outputs": [
    {
     "data": {
      "text/plain": [
       "(400, 78)"
      ]
     },
     "execution_count": 27,
     "metadata": {},
     "output_type": "execute_result"
    }
   ],
   "source": [
    "df.shape"
   ]
  },
  {
   "cell_type": "code",
   "execution_count": 694,
   "id": "fca3743a-c719-4dd9-ab1a-2cd4b8cb19fd",
   "metadata": {
    "tags": []
   },
   "outputs": [],
   "source": [
    "##Commenting-out this cell to prevent the dataframe from being written over.\n",
    "#Saving what we have so far.\n",
    "#df.to_csv('./data/reddit_submissions')"
   ]
  },
  {
   "cell_type": "markdown",
   "id": "f9bdb306-a073-4065-8b2e-4e0e98d0abcb",
   "metadata": {},
   "source": [
    "---"
   ]
  },
  {
   "cell_type": "markdown",
   "id": "ee07140a-d19c-4271-a925-713a306b033c",
   "metadata": {},
   "source": [
    "To reduce the number of repetitive lines of text, I'll be updating the cells below to collect the remaining r/horror data I need and regularly re-saving the dataset to avoid needing to re-run everything. Doing it this way will also naturally create a delay between each request so I'm not bombarding the server.."
   ]
  },
  {
   "cell_type": "code",
   "execution_count": 312,
   "id": "8dca3cff-faac-4c7c-974d-1553de821cc4",
   "metadata": {
    "collapsed": true,
    "jupyter": {
     "outputs_hidden": true
    },
    "tags": []
   },
   "outputs": [
    {
     "data": {
      "text/plain": [
       "{'all_awardings': [],\n",
       " 'allow_live_comments': False,\n",
       " 'author': 'suzaman',\n",
       " 'author_flair_css_class': None,\n",
       " 'author_flair_richtext': [],\n",
       " 'author_flair_text': None,\n",
       " 'author_flair_type': 'text',\n",
       " 'author_fullname': 't2_3vdwzdgu',\n",
       " 'author_patreon_flair': False,\n",
       " 'author_premium': False,\n",
       " 'awarders': [],\n",
       " 'can_mod_post': False,\n",
       " 'contest_mode': False,\n",
       " 'created_utc': 1621446669,\n",
       " 'domain': 'self.horror',\n",
       " 'full_link': 'https://www.reddit.com/r/horror/comments/ngcct1/1981_possession_is_more_proof_that_sam_neill_was/',\n",
       " 'gildings': {},\n",
       " 'id': 'ngcct1',\n",
       " 'is_crosspostable': True,\n",
       " 'is_meta': False,\n",
       " 'is_original_content': False,\n",
       " 'is_reddit_media_domain': False,\n",
       " 'is_robot_indexable': True,\n",
       " 'is_self': True,\n",
       " 'is_video': False,\n",
       " 'link_flair_background_color': '',\n",
       " 'link_flair_css_class': 'discussion',\n",
       " 'link_flair_richtext': [{'e': 'text', 't': 'Discussion'}],\n",
       " 'link_flair_template_id': '3a1cd228-8f0a-11e1-988a-12313d051e91',\n",
       " 'link_flair_text': 'Discussion',\n",
       " 'link_flair_text_color': 'dark',\n",
       " 'link_flair_type': 'richtext',\n",
       " 'locked': False,\n",
       " 'media_only': False,\n",
       " 'no_follow': False,\n",
       " 'num_comments': 37,\n",
       " 'num_crossposts': 0,\n",
       " 'over_18': False,\n",
       " 'parent_whitelist_status': 'all_ads',\n",
       " 'permalink': '/r/horror/comments/ngcct1/1981_possession_is_more_proof_that_sam_neill_was/',\n",
       " 'pinned': False,\n",
       " 'pwls': 6,\n",
       " 'retrieved_on': 1621446681,\n",
       " 'score': 1,\n",
       " 'selftext': 'I forget who recommended this to me but I really thanked them for this gem. The setup seems standard enough and the less you know going in the better. It can be considered slow but after second and third viewing I came to appreciate the story and struggle between these former lovers and couple as they deal with divorce differently and the added horror elements really are effective with adding a sense of isolation the characters are feeling. Just when you think its too slow. They drop a little nugget of horror that keepa building to a bizarre ending that will definitely have tou talking afterwards. \\n\\nBottom line the acting is great, the suspense is good and the horror is fantastically grotesque. \\n \\nDont miss this overlooked gem. 8/10',\n",
       " 'send_replies': True,\n",
       " 'spoiler': False,\n",
       " 'stickied': False,\n",
       " 'subreddit': 'horror',\n",
       " 'subreddit_id': 't5_2qh9x',\n",
       " 'subreddit_subscribers': 2370895,\n",
       " 'subreddit_type': 'public',\n",
       " 'thumbnail': 'self',\n",
       " 'title': \"1981 Possession is more proof that Sam Neill was made for horror movies and this onne doesn't nearly get talked about enough\",\n",
       " 'total_awards_received': 0,\n",
       " 'treatment_tags': [],\n",
       " 'upvote_ratio': 1.0,\n",
       " 'url': 'https://www.reddit.com/r/horror/comments/ngcct1/1981_possession_is_more_proof_that_sam_neill_was/',\n",
       " 'whitelist_status': 'all_ads',\n",
       " 'wls': 6}"
      ]
     },
     "execution_count": 312,
     "metadata": {},
     "output_type": "execute_result"
    }
   ],
   "source": [
    "#Getting created_utc from oldest submission in this batch.\n",
    "posts[-1]"
   ]
  },
  {
   "cell_type": "code",
   "execution_count": 313,
   "id": "ba69d69b-8e84-4851-ba17-e796f0390c15",
   "metadata": {
    "tags": []
   },
   "outputs": [],
   "source": [
    "#Updating the 'before' param with the new epoch time.\n",
    "params={\n",
    "    'subreddit': 'horror',\n",
    "    'size' : 100,\n",
    "    'before' : 1621446669\n",
    "}"
   ]
  },
  {
   "cell_type": "code",
   "execution_count": 314,
   "id": "667893ef-5364-4814-8e6c-16ffcc15d22a",
   "metadata": {},
   "outputs": [
    {
     "data": {
      "text/plain": [
       "200"
      ]
     },
     "execution_count": 314,
     "metadata": {},
     "output_type": "execute_result"
    }
   ],
   "source": [
    "#Using .get to pull our url with the updated params and checking the status code.\n",
    "res = requests.get(url, params)\n",
    "res.status_code"
   ]
  },
  {
   "cell_type": "code",
   "execution_count": 315,
   "id": "472adb9e-4889-4c0c-81e4-ab6828c96b09",
   "metadata": {},
   "outputs": [],
   "source": [
    "#Updating it to .json() format and selecting desired section of data.\n",
    "data=res.json()\n",
    "posts=data['data']"
   ]
  },
  {
   "cell_type": "code",
   "execution_count": 690,
   "id": "9a2270d3-7dc2-48b3-8cfa-763a30a5e59e",
   "metadata": {},
   "outputs": [],
   "source": [
    "##Commenting-out this cell to prevent the dataframe from being written over.\n",
    "#Appending it to our dataframe.\n",
    "#df=df.append(posts, ignore_index=True)"
   ]
  },
  {
   "cell_type": "code",
   "execution_count": 317,
   "id": "06bc3b15-0af6-421c-92bb-2df58a415797",
   "metadata": {
    "tags": []
   },
   "outputs": [
    {
     "data": {
      "text/plain": [
       "(5000, 80)"
      ]
     },
     "execution_count": 317,
     "metadata": {},
     "output_type": "execute_result"
    }
   ],
   "source": [
    "#Using .shape to see how many rows we have now.\n",
    "df.shape"
   ]
  },
  {
   "cell_type": "code",
   "execution_count": 695,
   "id": "8cb1e6b4-01f5-4349-a864-154cdec9152f",
   "metadata": {},
   "outputs": [],
   "source": [
    "##Commenting-out this cell to prevent the dataframe from being written over.\n",
    "#Saving the dataframe.\n",
    "#df.to_csv('./data/reddit_submissions')"
   ]
  },
  {
   "cell_type": "markdown",
   "id": "eb320c9b-cf8d-47e8-a50b-373f389ac130",
   "metadata": {},
   "source": [
    "---"
   ]
  },
  {
   "cell_type": "markdown",
   "id": "e012bfb2-a1d9-4761-9a0b-1f9c8037750a",
   "metadata": {},
   "source": [
    "Now that we have 5000 submissions from the r/horror subreddit, I'll use the same technique to collect 5000 submissions from r/Fantasy."
   ]
  },
  {
   "cell_type": "code",
   "execution_count": 370,
   "id": "a5367e94-e0b7-41b2-a39a-4c20e5c6fc00",
   "metadata": {},
   "outputs": [],
   "source": [
    "#Pulling 100 submissions from r/Fantasy.\n",
    "params={\n",
    "    'subreddit': 'Fantasy',\n",
    "    'size' : 100,\n",
    "}"
   ]
  },
  {
   "cell_type": "code",
   "execution_count": 365,
   "id": "092035a1-eaa8-4ffd-bfb5-71b326eed0dc",
   "metadata": {},
   "outputs": [
    {
     "data": {
      "text/plain": [
       "200"
      ]
     },
     "execution_count": 365,
     "metadata": {},
     "output_type": "execute_result"
    }
   ],
   "source": [
    "#Using .get to pull our url with the updated params and checking the status code.\n",
    "res = requests.get(url, params)\n",
    "res.status_code"
   ]
  },
  {
   "cell_type": "code",
   "execution_count": 366,
   "id": "6b2660f4-14e7-4657-a267-c0ad54e246a8",
   "metadata": {},
   "outputs": [],
   "source": [
    "#Updating it to .json() format and selecting desired section of data.\n",
    "data=res.json()\n",
    "posts=data['data']"
   ]
  },
  {
   "cell_type": "code",
   "execution_count": 691,
   "id": "d9244afa-1a18-4c9a-9d80-cf73df626c10",
   "metadata": {},
   "outputs": [],
   "source": [
    "##Commenting-out this cell to prevent the dataframe from being written over.\n",
    "#Appending it to our dataframe.\n",
    "#df=df.append(posts, ignore_index=True)"
   ]
  },
  {
   "cell_type": "markdown",
   "id": "84386f87-7ece-44c1-9a7c-6f6691296277",
   "metadata": {},
   "source": [
    "---"
   ]
  },
  {
   "cell_type": "code",
   "execution_count": 680,
   "id": "275414ca-5a3a-4a09-b225-607a9678ed07",
   "metadata": {
    "collapsed": true,
    "jupyter": {
     "outputs_hidden": true
    },
    "tags": []
   },
   "outputs": [
    {
     "data": {
      "text/plain": [
       "{'all_awardings': [],\n",
       " 'allow_live_comments': False,\n",
       " 'author': 'generalamitt',\n",
       " 'author_flair_css_class': None,\n",
       " 'author_flair_richtext': [],\n",
       " 'author_flair_text': None,\n",
       " 'author_flair_type': 'text',\n",
       " 'author_fullname': 't2_xiy1u',\n",
       " 'author_patreon_flair': False,\n",
       " 'author_premium': False,\n",
       " 'awarders': [],\n",
       " 'can_mod_post': False,\n",
       " 'contest_mode': False,\n",
       " 'created_utc': 1594664374,\n",
       " 'domain': 'self.Fantasy',\n",
       " 'full_link': 'https://www.reddit.com/r/Fantasy/comments/hqkmqn/brandon_sanderson_supposedly_crafts/',\n",
       " 'gildings': {},\n",
       " 'id': 'hqkmqn',\n",
       " 'is_crosspostable': True,\n",
       " 'is_meta': False,\n",
       " 'is_original_content': False,\n",
       " 'is_reddit_media_domain': False,\n",
       " 'is_robot_indexable': True,\n",
       " 'is_self': True,\n",
       " 'is_video': False,\n",
       " 'link_flair_background_color': '',\n",
       " 'link_flair_richtext': [],\n",
       " 'link_flair_text_color': 'dark',\n",
       " 'link_flair_type': 'text',\n",
       " 'locked': False,\n",
       " 'media_only': False,\n",
       " 'no_follow': True,\n",
       " 'num_comments': 19,\n",
       " 'num_crossposts': 0,\n",
       " 'over_18': False,\n",
       " 'parent_whitelist_status': 'all_ads',\n",
       " 'permalink': '/r/Fantasy/comments/hqkmqn/brandon_sanderson_supposedly_crafts/',\n",
       " 'pinned': False,\n",
       " 'pwls': 6,\n",
       " 'retrieved_on': 1594664404,\n",
       " 'score': 1,\n",
       " 'selftext': \"After finishing his Stormlight series I was surprised to learn that the man is highly regarded for his hard magic systems. Idk, maybe I am too used to game-like systems like in the cradle books or Mother of learning's, but the magic in Stormlight is like the definition of soft magic. Nothing is actually established, the characters throw around superpowers as the plot demands it, having literally superman-level battles in the skies.  \\n\\nAlso, I am...disappointed with the series as a whole? it's a very simplistic black and white morals, good vs evil type of story, I thought that kind of stuff burned out of modern fantasy.\",\n",
       " 'send_replies': True,\n",
       " 'spoiler': False,\n",
       " 'stickied': False,\n",
       " 'subreddit': 'Fantasy',\n",
       " 'subreddit_id': 't5_2qknd',\n",
       " 'subreddit_subscribers': 965660,\n",
       " 'subreddit_type': 'public',\n",
       " 'thumbnail': 'self',\n",
       " 'title': 'Brandon Sanderson supposedly crafts well-established and clear magic systems, why am I not seeing that in The Stormlight Archives?',\n",
       " 'total_awards_received': 0,\n",
       " 'treatment_tags': [],\n",
       " 'upvote_ratio': 1.0,\n",
       " 'url': 'https://www.reddit.com/r/Fantasy/comments/hqkmqn/brandon_sanderson_supposedly_crafts/',\n",
       " 'whitelist_status': 'all_ads',\n",
       " 'wls': 6}"
      ]
     },
     "execution_count": 680,
     "metadata": {},
     "output_type": "execute_result"
    }
   ],
   "source": [
    "#Getting created_utc from oldest submission in this batch.\n",
    "posts[-1]"
   ]
  },
  {
   "cell_type": "code",
   "execution_count": 681,
   "id": "13c80607-3f37-465e-b044-104c36e85bfa",
   "metadata": {},
   "outputs": [],
   "source": [
    "#Updating the 'before' param with the new epoch time.\n",
    "params={\n",
    "    'subreddit': 'Fantasy',\n",
    "    'size' : 100,\n",
    "    'before' : 1594664374\n",
    "}"
   ]
  },
  {
   "cell_type": "code",
   "execution_count": 682,
   "id": "aad39c2a-66c4-4e6c-bc5c-d32d2a98efb0",
   "metadata": {},
   "outputs": [
    {
     "data": {
      "text/plain": [
       "200"
      ]
     },
     "execution_count": 682,
     "metadata": {},
     "output_type": "execute_result"
    }
   ],
   "source": [
    "#Using .get to pull our url with the updated params and checking the status code.\n",
    "res = requests.get(url, params)\n",
    "res.status_code"
   ]
  },
  {
   "cell_type": "code",
   "execution_count": 683,
   "id": "8d275c96-9d82-423a-b935-eb5d789802a8",
   "metadata": {},
   "outputs": [],
   "source": [
    "#Updating it to .json() format and selecting desired section of data.\n",
    "data=res.json()\n",
    "posts=data['data']"
   ]
  },
  {
   "cell_type": "code",
   "execution_count": 692,
   "id": "2a5fe024-a2be-4685-9900-7d389bdaf657",
   "metadata": {},
   "outputs": [],
   "source": [
    "##Commenting-out this cell to prevent the dataframe from being written over.\n",
    "#Appending it to our dataframe.\n",
    "#df=df.append(posts, ignore_index=True)"
   ]
  },
  {
   "cell_type": "code",
   "execution_count": 685,
   "id": "2d8d9950-44ae-4b54-9efb-7a267e9f5311",
   "metadata": {},
   "outputs": [
    {
     "data": {
      "text/plain": [
       "(10000, 87)"
      ]
     },
     "execution_count": 685,
     "metadata": {},
     "output_type": "execute_result"
    }
   ],
   "source": [
    "#Using .shape to see how many rows we have now.\n",
    "df.shape"
   ]
  },
  {
   "cell_type": "code",
   "execution_count": 698,
   "id": "8fafbb0c-85dc-4266-9fb8-50a7f8099cfc",
   "metadata": {},
   "outputs": [],
   "source": [
    "##Commenting-out this cell to prevent the dataframe from being written over.\n",
    "#Saving the dataframe.\n",
    "#df.to_csv('./data/reddit_submissions')"
   ]
  },
  {
   "cell_type": "markdown",
   "id": "019306a8-b86c-42c8-9515-2a393d770ed0",
   "metadata": {},
   "source": [
    "---"
   ]
  }
 ],
 "metadata": {
  "kernelspec": {
   "display_name": "Python 3",
   "language": "python",
   "name": "python3"
  },
  "language_info": {
   "codemirror_mode": {
    "name": "ipython",
    "version": 3
   },
   "file_extension": ".py",
   "mimetype": "text/x-python",
   "name": "python",
   "nbconvert_exporter": "python",
   "pygments_lexer": "ipython3",
   "version": "3.8.8"
  }
 },
 "nbformat": 4,
 "nbformat_minor": 5
}
